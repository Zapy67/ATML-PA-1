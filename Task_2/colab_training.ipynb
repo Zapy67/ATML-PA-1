{
 "cells": [
  {
   "cell_type": "code",
   "execution_count": null,
   "id": "52f5e82a",
   "metadata": {},
   "outputs": [],
   "source": [
    "# ========================\n",
    "# 1. Clone your repo\n",
    "# ========================\n",
    "!git clone https://github.com/Zapy67/ATML-PA-1\n",
    "%cd ATML-PA-1"
   ]
  },
  {
   "cell_type": "code",
   "execution_count": null,
   "id": "a0699754",
   "metadata": {},
   "outputs": [],
   "source": [
    "# ========================\n",
    "# 2. Install dependencies\n",
    "# ========================\n",
    "!pip install torch torchvision matplotlib"
   ]
  },
  {
   "cell_type": "code",
   "execution_count": null,
   "id": "5d6c42a9",
   "metadata": {},
   "outputs": [],
   "source": [
    "# ========================\n",
    "# 3. Run training scripts\n",
    "# ========================\n",
    "# !python Task_2/Training_GAN.py\n",
    "# !python Task_2/Training_VAE.py"
   ]
  },
  {
   "cell_type": "code",
   "execution_count": null,
   "id": "95006713",
   "metadata": {},
   "outputs": [],
   "source": [
    "# Download and save weights\n",
    "from google.colab import files\n",
    "# files.download(\"gan_weights.pth\")\n",
    "# files.download(\"vae_weights.pth\")"
   ]
  }
 ],
 "metadata": {
  "language_info": {
   "name": "python"
  }
 },
 "nbformat": 4,
 "nbformat_minor": 5
}
