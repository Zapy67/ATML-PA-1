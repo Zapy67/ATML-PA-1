{
 "cells": [
  {
   "cell_type": "markdown",
   "id": "17abb562",
   "metadata": {},
   "source": [
    "# Contrastive Models – Analyzing CLIP (ViT-B/32) and Multimodal Biases"
   ]
  },
  {
   "cell_type": "code",
   "execution_count": null,
   "id": "d57b45fe",
   "metadata": {},
   "outputs": [],
   "source": [
    "# !pip install git+https://github.com/openai/CLIP.git"
   ]
  },
  {
   "cell_type": "code",
   "execution_count": null,
   "id": "9a0a536b",
   "metadata": {},
   "outputs": [],
   "source": [
    "# IMPORTS\n",
    "\n",
    "import torch\n",
    "import torch.nn as nn\n",
    "import torch.nn.functional as F\n",
    "from torch.utils.data import DataLoader\n",
    "\n",
    "import clip\n",
    "\n",
    "import torchvision\n",
    "from torchvision.datasets import CIFAR10\n",
    "import torchvision.transforms as transforms\n",
    "\n",
    "import numpy as np\n",
    "\n",
    "device = \"cuda\" if torch.cuda.is_available() else \"cpu\""
   ]
  },
  {
   "cell_type": "markdown",
   "id": "2cb13b97",
   "metadata": {},
   "source": [
    "## Prepping Model and Dataset"
   ]
  },
  {
   "cell_type": "code",
   "execution_count": null,
   "id": "977509e7",
   "metadata": {},
   "outputs": [],
   "source": [
    "model, preprocess = clip.load(\"ViT-B/32\", device=device)"
   ]
  },
  {
   "cell_type": "code",
   "execution_count": null,
   "id": "3765f44c",
   "metadata": {},
   "outputs": [],
   "source": [
    "transform = preprocess\n",
    "testset = CIFAR10(root='./data', train=False, download=True, transform=transform)\n",
    "testloader = DataLoader(testset, batch_size=64, shuffle=False)"
   ]
  },
  {
   "cell_type": "code",
   "execution_count": null,
   "id": "208d7861",
   "metadata": {},
   "outputs": [],
   "source": [
    "# CIFAR-10 class names\n",
    "class_names = [\"airplane\", \"automobile\", \"bird\" , \"cat\", \"deer\",\n",
    "               \"dog\", \"frog\", \"horse\", \"ship\", \"truck\"]"
   ]
  },
  {
   "cell_type": "code",
   "execution_count": null,
   "id": "8a18a506",
   "metadata": {},
   "outputs": [],
   "source": [
    "plain_labels = class_names\n",
    "prompted_text = [f\"A Photo of a {c}\" for c in class_names]\n",
    "pt_2 = [f\"Here lies a Picture of {c}\" for c in class_names]\n",
    "sketch_prompt = [f\"A drawing of a {c}\" for c in class_names]"
   ]
  },
  {
   "cell_type": "markdown",
   "id": "b50ac029",
   "metadata": {},
   "source": [
    "## Zero-Shot Classification Test"
   ]
  },
  {
   "cell_type": "code",
   "execution_count": null,
   "id": "adbe7686",
   "metadata": {},
   "outputs": [],
   "source": [
    "zeroshot_ws = []\n",
    "with torch.no_grad():\n",
    "    for i in range(len(class_names)):\n",
    "        texts = [plain_labels[i], prompted_text[i], pt_2[i], sketch_prompt[i]]\n",
    "        tokenized_texts = clip.tokenize(texts).to(device)\n",
    "        class_embeds = model.encode_text(tokenized_texts)\n",
    "        class_embeds /= class_embeds.norm(dim=-1, keepdim=True) # [-1, 1] norm for cosine sim term in clip\n",
    "        class_embeds = class_embeds.mean(dim=0)\n",
    "        class_embeds /= class_embeds.norm(dim=-1, keepdim=True)\n",
    "        zeroshot_ws.append(class_embeds)\n",
    "    zeroshot_ws = torch.stack(zeroshot_ws, dim=1).to(device) # [dim, num_classes]"
   ]
  },
  {
   "cell_type": "code",
   "execution_count": null,
   "id": "faa57f53",
   "metadata": {},
   "outputs": [],
   "source": [
    "# Eval\n",
    "\n",
    "correct = 0\n",
    "total = 0\n",
    "\n",
    "with torch.no_grad():\n",
    "    for images, labels in testloader:\n",
    "        images = images.to(device)\n",
    "        labels = labels.to(device)\n",
    "\n",
    "        image_feats = model.encode_image(images) # [batch, dim]\n",
    "        image_feats /= image_feats.norm(dim=-1, keepdim=True)\n",
    "\n",
    "        logits = 100.0 * image_feats @ zeroshot_ws # [batch, num_classes]\n",
    "        preds = torch.argmax(logits, dim=-1)\n",
    "\n",
    "        correct += (preds == labels).sum().item()\n",
    "        total += labels.size(0)\n",
    "\n",
    "acc = correct/total\n",
    "print(f\"Zero-Shot Classification Accuracy on various styles of prompts: {(acc*100):.2f}%\")"
   ]
  },
  {
   "cell_type": "markdown",
   "id": "974e8653",
   "metadata": {},
   "source": [
    "## Image Text Retrieval"
   ]
  },
  {
   "cell_type": "markdown",
   "id": "3542df93",
   "metadata": {},
   "source": []
  }
 ],
 "metadata": {
  "language_info": {
   "name": "python"
  }
 },
 "nbformat": 4,
 "nbformat_minor": 5
}
