{
 "cells": [
  {
   "cell_type": "markdown",
   "id": "3a21fdad",
   "metadata": {},
   "source": [
    "# Task 2: Generative Models – Investigating VAE vs. GAN Biases"
   ]
  },
  {
   "cell_type": "code",
   "execution_count": 1,
   "id": "0734dcbd",
   "metadata": {},
   "outputs": [
    {
     "name": "stdout",
     "output_type": "stream",
     "text": [
      "fatal: destination path 'ATML-PA-1' already exists and is not an empty directory.\n",
      "/kaggle/working/ATML-PA-1/Task2\n"
     ]
    }
   ],
   "source": [
    "!git clone -b atm-11 https://github.com/Zapy67/ATML-PA-1\n",
    "%cd ATML-PA-1/Task2"
   ]
  },
  {
   "cell_type": "code",
   "execution_count": 2,
   "id": "5f96b48d",
   "metadata": {},
   "outputs": [
    {
     "name": "stdout",
     "output_type": "stream",
     "text": [
      "Already up to date.\n"
     ]
    }
   ],
   "source": [
    "!git pull"
   ]
  },
  {
   "cell_type": "code",
   "execution_count": null,
   "id": "257a0d71",
   "metadata": {},
   "outputs": [],
   "source": [
    "!ls"
   ]
  },
  {
   "cell_type": "code",
   "execution_count": 3,
   "id": "b16cfbcd",
   "metadata": {},
   "outputs": [],
   "source": [
    "import torch\n",
    "import torch.nn as nn\n",
    "import torch.nn.functional as F\n",
    "from torchvision.datasets import CIFAR10\n",
    "import torch.optim as optim\n",
    "\n",
    "from architectures import VAE, GAN\n",
    "\n",
    "from Linear_Classifier import inference\n",
    "\n",
    "import utils as ut"
   ]
  },
  {
   "cell_type": "code",
   "execution_count": 4,
   "id": "9a6149d0",
   "metadata": {},
   "outputs": [
    {
     "name": "stdout",
     "output_type": "stream",
     "text": [
      "cuda\n"
     ]
    }
   ],
   "source": [
    "device = \"cuda\" if torch.cuda.is_available() else \"cpu\"\n",
    "print(device)"
   ]
  },
  {
   "cell_type": "markdown",
   "id": "dcc0fc39",
   "metadata": {},
   "source": [
    "## Training GANs"
   ]
  },
  {
   "cell_type": "markdown",
   "id": "a18b444b",
   "metadata": {},
   "source": [
    "Will be training 4 GANS, differing latent Dims (64 vs 128), and basic vs advanced (Advanced has additional steps in training to ensure stability)"
   ]
  },
  {
   "cell_type": "code",
   "execution_count": 5,
   "id": "182407fc",
   "metadata": {},
   "outputs": [],
   "source": [
    "from Training_GAN import train_model as train_GAN"
   ]
  },
  {
   "cell_type": "code",
   "execution_count": 6,
   "id": "2517ef8f",
   "metadata": {},
   "outputs": [
    {
     "name": "stdout",
     "output_type": "stream",
     "text": [
      "=== Downloading CIFAR-10 ===\n",
      "=== Training GAN ===\n",
      "Model has 1120612 parameters\n",
      "Training on cuda\n",
      "Epochs: 40\n",
      "Epoch [1/40]  D_loss: 1.5887  G_loss: 0.7605\n",
      "Epoch [2/40]  D_loss: 1.4204  G_loss: 0.6986\n",
      "Epoch [3/40]  D_loss: 1.4054  G_loss: 0.6965\n",
      "Epoch [4/40]  D_loss: 1.3993  G_loss: 0.6958\n",
      "Epoch [5/40]  D_loss: 1.3961  G_loss: 0.7007\n",
      "Epoch [6/40]  D_loss: 1.3945  G_loss: 0.7021\n",
      "Epoch [7/40]  D_loss: 1.3934  G_loss: 0.7000\n",
      "Epoch [8/40]  D_loss: 1.3921  G_loss: 0.7003\n",
      "Epoch [9/40]  D_loss: 1.3918  G_loss: 0.7013\n",
      "Epoch [10/40]  D_loss: 1.3917  G_loss: 0.7026\n",
      "Epoch [11/40]  D_loss: 1.3917  G_loss: 0.7014\n",
      "Epoch [12/40]  D_loss: 1.3917  G_loss: 0.7014\n",
      "Epoch [13/40]  D_loss: 1.3913  G_loss: 0.7024\n",
      "Epoch [14/40]  D_loss: 1.3901  G_loss: 0.7013\n",
      "Epoch [15/40]  D_loss: 1.3907  G_loss: 0.7012\n",
      "Epoch [16/40]  D_loss: 1.3900  G_loss: 0.7011\n",
      "Epoch [17/40]  D_loss: 1.3891  G_loss: 0.7017\n",
      "Epoch [18/40]  D_loss: 1.3893  G_loss: 0.7025\n",
      "Epoch [19/40]  D_loss: 1.3884  G_loss: 0.7034\n",
      "Epoch [20/40]  D_loss: 1.3868  G_loss: 0.7055\n",
      "Epoch [21/40]  D_loss: 1.3854  G_loss: 0.7052\n",
      "Epoch [22/40]  D_loss: 1.3838  G_loss: 0.7100\n",
      "Epoch [23/40]  D_loss: 1.3864  G_loss: 0.7064\n",
      "Epoch [24/40]  D_loss: 1.3864  G_loss: 0.7061\n",
      "Epoch [25/40]  D_loss: 1.3846  G_loss: 0.7067\n",
      "Epoch [26/40]  D_loss: 1.3832  G_loss: 0.7094\n",
      "Epoch [27/40]  D_loss: 1.3809  G_loss: 0.7104\n",
      "Epoch [28/40]  D_loss: 1.3808  G_loss: 0.7119\n",
      "Epoch [29/40]  D_loss: 1.3822  G_loss: 0.7115\n",
      "Epoch [30/40]  D_loss: 1.3821  G_loss: 0.7106\n",
      "Epoch [31/40]  D_loss: 1.3834  G_loss: 0.7088\n",
      "Epoch [32/40]  D_loss: 1.3827  G_loss: 0.7082\n",
      "Epoch [33/40]  D_loss: 1.3828  G_loss: 0.7087\n",
      "Epoch [34/40]  D_loss: 1.3834  G_loss: 0.7081\n",
      "Epoch [35/40]  D_loss: 1.3821  G_loss: 0.7077\n",
      "Epoch [36/40]  D_loss: 1.3819  G_loss: 0.7074\n",
      "Epoch [37/40]  D_loss: 1.3814  G_loss: 0.7094\n",
      "Epoch [38/40]  D_loss: 1.3800  G_loss: 0.7099\n",
      "Epoch [39/40]  D_loss: 1.3787  G_loss: 0.7091\n",
      "Epoch [40/40]  D_loss: 1.3778  G_loss: 0.7124\n",
      "=== Plotting Loss Curves ===\n",
      "=== Plotting Generated Samples ===\n"
     ]
    }
   ],
   "source": [
    "train_GAN(64, basic=True)"
   ]
  },
  {
   "cell_type": "code",
   "execution_count": null,
   "id": "f8aa6daf",
   "metadata": {},
   "outputs": [
    {
     "name": "stdout",
     "output_type": "stream",
     "text": [
      "=== Downloading CIFAR-10 ===\n",
      "=== Training GAN ===\n",
      "Model has 1382756 parameters\n",
      "Training on cuda\n",
      "Epochs: 40\n",
      "Epoch [1/40]  D_loss: 1.5397  G_loss: 0.8670\n"
     ]
    }
   ],
   "source": [
    "train_GAN(128, basic=True)"
   ]
  },
  {
   "cell_type": "code",
   "execution_count": null,
   "id": "7e8e8009",
   "metadata": {},
   "outputs": [],
   "source": [
    "train_GAN(64, basic=False)"
   ]
  },
  {
   "cell_type": "code",
   "execution_count": null,
   "id": "daa02392",
   "metadata": {},
   "outputs": [],
   "source": [
    "train_GAN(128, basic=False)"
   ]
  },
  {
   "cell_type": "markdown",
   "id": "b9b5046d",
   "metadata": {},
   "source": [
    "## Training VAEs"
   ]
  },
  {
   "cell_type": "markdown",
   "id": "e086adcf",
   "metadata": {},
   "source": [
    "Will be training 4 VAEs, with latent dimensions = 64, and 128 respectively, as well as turning KL Annealing On/Off"
   ]
  },
  {
   "cell_type": "code",
   "execution_count": null,
   "id": "ce03da6a",
   "metadata": {},
   "outputs": [],
   "source": [
    "from Training_VAE import train_model as train_VAE"
   ]
  },
  {
   "cell_type": "code",
   "execution_count": null,
   "id": "04dd6732",
   "metadata": {},
   "outputs": [],
   "source": [
    "train_VAE(64, kl_annealing=False)"
   ]
  },
  {
   "cell_type": "code",
   "execution_count": null,
   "id": "df2b78b9",
   "metadata": {},
   "outputs": [],
   "source": []
  },
  {
   "cell_type": "code",
   "execution_count": null,
   "id": "7a79b685",
   "metadata": {},
   "outputs": [],
   "source": []
  },
  {
   "cell_type": "code",
   "execution_count": null,
   "id": "1f7aa049",
   "metadata": {},
   "outputs": [],
   "source": []
  }
 ],
 "metadata": {
  "kernelspec": {
   "display_name": "Python 3 (ipykernel)",
   "language": "python",
   "name": "python3"
  },
  "language_info": {
   "codemirror_mode": {
    "name": "ipython",
    "version": 3
   },
   "file_extension": ".py",
   "mimetype": "text/x-python",
   "name": "python",
   "nbconvert_exporter": "python",
   "pygments_lexer": "ipython3",
   "version": "3.11.13"
  }
 },
 "nbformat": 4,
 "nbformat_minor": 5
}
