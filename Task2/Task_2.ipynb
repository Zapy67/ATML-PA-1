{
 "cells": [
  {
   "cell_type": "markdown",
   "id": "3a21fdad",
   "metadata": {},
   "source": [
    "# Task 2: Generative Models – Investigating VAE vs. GAN Biases"
   ]
  },
  {
   "cell_type": "code",
   "execution_count": 7,
   "id": "0734dcbd",
   "metadata": {},
   "outputs": [
    {
     "name": "stdout",
     "output_type": "stream",
     "text": [
      "Cloning into 'ATML-PA-1'...\n",
      "remote: Enumerating objects: 253, done.\u001b[K\n",
      "remote: Counting objects: 100% (89/89), done.\u001b[K\n",
      "remote: Compressing objects: 100% (71/71), done.\u001b[K\n",
      "remote: Total 253 (delta 34), reused 56 (delta 16), pack-reused 164 (from 1)\u001b[K\n",
      "Receiving objects: 100% (253/253), 21.62 MiB | 15.39 MiB/s, done.\n",
      "Resolving deltas: 100% (130/130), done.\n",
      "/kaggle/working/ATML-PA-1/Task2\n"
     ]
    }
   ],
   "source": [
    "!git clone -b atm-11 https://github.com/Zapy67/ATML-PA-1\n",
    "%cd ATML-PA-1/Task2"
   ]
  },
  {
   "cell_type": "code",
   "execution_count": null,
   "id": "5f96b48d",
   "metadata": {},
   "outputs": [],
   "source": [
    "!git pull"
   ]
  },
  {
   "cell_type": "code",
   "execution_count": 8,
   "id": "257a0d71",
   "metadata": {},
   "outputs": [
    {
     "name": "stdout",
     "output_type": "stream",
     "text": [
      "architectures.py      models\t\tTraining_GAN.py\n",
      "colab_training.ipynb  requirements.txt\tTraining_VAE.py\n",
      "Linear_Classifier.py  Task_2.ipynb\tutils.py\n"
     ]
    }
   ],
   "source": [
    "!ls"
   ]
  },
  {
   "cell_type": "code",
   "execution_count": 9,
   "id": "b16cfbcd",
   "metadata": {},
   "outputs": [],
   "source": [
    "import torch\n",
    "import torch.nn as nn\n",
    "import torch.nn.functional as F\n",
    "from torchvision.datasets import CIFAR10\n",
    "import torch.optim as optim\n",
    "\n",
    "from architectures import VAE, GAN\n",
    "\n",
    "from Linear_Classifier import inference\n",
    "\n",
    "import utils as ut"
   ]
  },
  {
   "cell_type": "code",
   "execution_count": 10,
   "id": "9a6149d0",
   "metadata": {},
   "outputs": [
    {
     "name": "stdout",
     "output_type": "stream",
     "text": [
      "cuda\n"
     ]
    }
   ],
   "source": [
    "device = \"cuda\" if torch.cuda.is_available() else \"cpu\"\n",
    "print(device)"
   ]
  },
  {
   "cell_type": "markdown",
   "id": "dcc0fc39",
   "metadata": {},
   "source": [
    "## Training GANs"
   ]
  },
  {
   "cell_type": "code",
   "execution_count": null,
   "id": "182407fc",
   "metadata": {},
   "outputs": [],
   "source": []
  },
  {
   "cell_type": "markdown",
   "id": "b9b5046d",
   "metadata": {},
   "source": [
    "## Training VAEs"
   ]
  },
  {
   "cell_type": "markdown",
   "id": "e086adcf",
   "metadata": {},
   "source": [
    "Will be training 4 VAEs, with latent dimensions = 64, and 128 respectively, as well as turning KL Annealing On/Off"
   ]
  },
  {
   "cell_type": "markdown",
   "id": "cbae4686",
   "metadata": {},
   "source": []
  }
 ],
 "metadata": {
  "kernelspec": {
   "display_name": "Python 3 (ipykernel)",
   "language": "python",
   "name": "python3"
  },
  "language_info": {
   "codemirror_mode": {
    "name": "ipython",
    "version": 3
   },
   "file_extension": ".py",
   "mimetype": "text/x-python",
   "name": "python",
   "nbconvert_exporter": "python",
   "pygments_lexer": "ipython3",
   "version": "3.11.13"
  }
 },
 "nbformat": 4,
 "nbformat_minor": 5
}
