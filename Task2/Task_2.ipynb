{
 "cells": [
  {
   "cell_type": "markdown",
   "id": "3a21fdad",
   "metadata": {},
   "source": [
    "# Task 2: Generative Models – Investigating VAE vs. GAN Biases"
   ]
  },
  {
   "cell_type": "code",
   "execution_count": null,
   "id": "b16cfbcd",
   "metadata": {},
   "outputs": [],
   "source": [
    "import torch\n",
    "import torch.nn as nn\n",
    "import torch.nn.functional as F\n",
    "from torchvision.datasets import CIFAR10\n",
    "import torch.optim as optim\n",
    "\n",
    "from architectures import VAE, GAN\n",
    "\n",
    "device = \"cuda\" if torch.cuda.is_available() else \"cpu\""
   ]
  },
  {
   "cell_type": "markdown",
   "id": "abc69005",
   "metadata": {},
   "source": [
    "Full Linear Classifier Can be trained, will not be in the repo (size too large)"
   ]
  }
 ],
 "metadata": {
  "language_info": {
   "name": "python"
  }
 },
 "nbformat": 4,
 "nbformat_minor": 5
}
