{
 "cells": [
  {
   "cell_type": "code",
   "execution_count": null,
   "id": "52f5e82a",
   "metadata": {},
   "outputs": [],
   "source": [
    "# ========================\n",
    "# 1. Clone your repo\n",
    "# ========================\n",
    "!git clone \"\"\"-b <branch-name>\"\"\" https://github.com/Zapy67/ATML-PA-1\n",
    "%cd ATML-PA-1"
   ]
  },
  {
   "cell_type": "code",
   "execution_count": null,
   "id": "c66e2ccf",
   "metadata": {},
   "outputs": [],
   "source": [
    "# git pull"
   ]
  },
  {
   "cell_type": "code",
   "execution_count": null,
   "id": "a0699754",
   "metadata": {},
   "outputs": [],
   "source": [
    "# ========================\n",
    "# 2. Install dependencies\n",
    "# ========================\n",
    "# !pip install torch torchvision matplotlib"
   ]
  },
  {
   "cell_type": "code",
   "execution_count": null,
   "id": "5d6c42a9",
   "metadata": {},
   "outputs": [
    {
     "name": "stdout",
     "output_type": "stream",
     "text": [
      "^C\n"
     ]
    }
   ],
   "source": [
    "# ========================\n",
    "# 3. Run training scripts\n",
    "# ========================\n",
    "# !python Task2/Training_GAN.py\n",
    "!python Task2/Training_VAE.py"
   ]
  },
  {
   "cell_type": "code",
   "execution_count": null,
   "id": "95006713",
   "metadata": {},
   "outputs": [],
   "source": [
    "# Download and save weights\n",
    "from google.colab import files\n",
    "# files.download(\"gan_weights.pth\")\n",
    "# files.download(\"vae_weights.pth\")\n",
    "files.download(\"VAE_Generations_Base_Training.png\")\n",
    "files.download(\"VAE_Reconstructions.png\")\n",
    "files.download(\"VAE_TSNE.png\")\n",
    "files.download(\"VAE_Training_Losses.png\")"
   ]
  }
 ],
 "metadata": {
  "kernelspec": {
   "display_name": "Python 3",
   "language": "python",
   "name": "python3"
  },
  "language_info": {
   "codemirror_mode": {
    "name": "ipython",
    "version": 3
   },
   "file_extension": ".py",
   "mimetype": "text/x-python",
   "name": "python",
   "nbconvert_exporter": "python",
   "pygments_lexer": "ipython3",
   "version": "3.12.2"
  }
 },
 "nbformat": 4,
 "nbformat_minor": 5
}
